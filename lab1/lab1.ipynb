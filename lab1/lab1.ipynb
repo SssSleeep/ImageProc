{
 "cells": [
  {
   "cell_type": "code",
   "execution_count": 11,
   "id": "7deb9759",
   "metadata": {},
   "outputs": [],
   "source": [
    "import numpy as np\n"
   ]
  },
  {
   "cell_type": "code",
   "execution_count": 12,
   "id": "3392564c",
   "metadata": {},
   "outputs": [],
   "source": [
    "matrix = np.array([[1, 2, 3],\n",
    "                   [4, 5, 6],\n",
    "                   [7, 8, 9]])"
   ]
  },
  {
   "cell_type": "code",
   "execution_count": 14,
   "id": "fe6009aa",
   "metadata": {},
   "outputs": [
    {
     "name": "stdout",
     "output_type": "stream",
     "text": [
      "Ср. значение: \n",
      "5.0\n",
      "\n",
      "\n",
      "Стандартное отклонение:\n",
      "2.581988897471611\n",
      "\n",
      "\n",
      "Нормализированная матрица:\n",
      "[[-1.54919334 -1.161895   -0.77459667]\n",
      " [-0.38729833  0.          0.38729833]\n",
      " [ 0.77459667  1.161895    1.54919334]]\n"
     ]
    }
   ],
   "source": [
    "# Вычисляем среднее значение и стандартное отклонение\n",
    "mean_value = np.mean(matrix)\n",
    "print(\"Ср. значение: \")\n",
    "print(mean_value)\n",
    "std_deviation = np.std(matrix)\n",
    "print(\"\\n\")\n",
    "print(\"Стандартное отклонение:\")\n",
    "print(std_deviation)\n",
    "\n",
    "# Нормализация матрицы\n",
    "normalized_matrix = (matrix - mean_value) / std_deviation\n",
    "\n",
    "print(\"\\n\")\n",
    "print(\"Нормализированная матрица:\")\n",
    "print(normalized_matrix)"
   ]
  },
  {
   "cell_type": "code",
   "execution_count": null,
   "id": "e260a561",
   "metadata": {},
   "outputs": [],
   "source": []
  }
 ],
 "metadata": {
  "kernelspec": {
   "display_name": "Python 3 (ipykernel)",
   "language": "python",
   "name": "python3"
  },
  "language_info": {
   "codemirror_mode": {
    "name": "ipython",
    "version": 3
   },
   "file_extension": ".py",
   "mimetype": "text/x-python",
   "name": "python",
   "nbconvert_exporter": "python",
   "pygments_lexer": "ipython3",
   "version": "3.9.12"
  }
 },
 "nbformat": 4,
 "nbformat_minor": 5
}
